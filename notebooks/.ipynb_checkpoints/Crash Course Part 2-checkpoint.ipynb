{
 "cells": [
  {
   "cell_type": "markdown",
   "metadata": {},
   "source": [
    "### Loops (Continued)"
   ]
  },
  {
   "cell_type": "code",
   "execution_count": 1,
   "metadata": {},
   "outputs": [
    {
     "name": "stdout",
     "output_type": "stream",
     "text": [
      "*\n",
      "**\n",
      "***\n",
      "****\n",
      "*****\n",
      "******\n",
      "*******\n",
      "********\n",
      "*********\n"
     ]
    }
   ],
   "source": [
    "for i in range(1,10):\n",
    "    print(\"*\"*i)"
   ]
  },
  {
   "cell_type": "code",
   "execution_count": 3,
   "metadata": {},
   "outputs": [
    {
     "name": "stdout",
     "output_type": "stream",
     "text": [
      "Enter size: 6\n",
      "*\n",
      "**\n",
      "***\n",
      "****\n",
      "*****\n",
      "******\n"
     ]
    }
   ],
   "source": [
    "## inner loops\n",
    "size = int(input(\"Enter size: \"))\n",
    "\n",
    "shape = \"\"\n",
    "\n",
    "for i in range(1,size+1):\n",
    "    for j in range(1,i+1):\n",
    "        print(\"*\",end='')\n",
    "    print(\"\")\n",
    "    "
   ]
  },
  {
   "cell_type": "code",
   "execution_count": 4,
   "metadata": {},
   "outputs": [
    {
     "name": "stdout",
     "output_type": "stream",
     "text": [
      "Enter size (-1 to end): 2\n",
      "*\n",
      "**\n",
      "Enter size (-1 to end): -1\n",
      "The end\n"
     ]
    }
   ],
   "source": [
    "while(True):\n",
    "    size = int(input(\"Enter size (-1 to end): \"))\n",
    "    \n",
    "    if(size==-1):\n",
    "        print(\"The end\")\n",
    "        break\n",
    "\n",
    "    shape = \"\"\n",
    "\n",
    "    for i in range(1,size+1):\n",
    "        for j in range(1,i+1):\n",
    "            print(\"*\",end='')\n",
    "        print(\"\")"
   ]
  },
  {
   "cell_type": "markdown",
   "metadata": {},
   "source": [
    "### More Functions"
   ]
  },
  {
   "cell_type": "code",
   "execution_count": 5,
   "metadata": {},
   "outputs": [
    {
     "name": "stdout",
     "output_type": "stream",
     "text": [
      "Hello World!\n"
     ]
    }
   ],
   "source": [
    "def helloworld(x):\n",
    "    print(x)\n",
    "    \n",
    "helloworld(\"Hello World!\")"
   ]
  },
  {
   "cell_type": "code",
   "execution_count": 7,
   "metadata": {},
   "outputs": [
    {
     "name": "stdout",
     "output_type": "stream",
     "text": [
      "ITM 110 X\n"
     ]
    }
   ],
   "source": [
    "helloworld(\"ITM 110 X\")"
   ]
  },
  {
   "cell_type": "code",
   "execution_count": 24,
   "metadata": {},
   "outputs": [
    {
     "name": "stdout",
     "output_type": "stream",
     "text": [
      "Enter size (-1 to end): 5\n",
      "*\n",
      "**\n",
      "***\n",
      "****\n",
      "*****\n",
      "Enter size (-1 to end): 6\n",
      "*\n",
      "**\n",
      "***\n",
      "****\n",
      "*****\n",
      "******\n",
      "Enter size (-1 to end): 3\n",
      "*\n",
      "**\n",
      "***\n",
      "Enter size (-1 to end): -1\n",
      "The end\n"
     ]
    }
   ],
   "source": [
    "def print_triangle(s):\n",
    "    shape = \"\"\n",
    "    for i in range(1,s+1):\n",
    "        for j in range(1,i+1):\n",
    "            print(\"*\",end='')\n",
    "        print(\"\")\n",
    "\n",
    "while(True):\n",
    "    size = int(input(\"Enter size (-1 to end): \"))\n",
    "    if(size==-1):\n",
    "        print(\"The end\")\n",
    "        break\n",
    "\n",
    "    shape = \"\"\n",
    "    print_triangle(size)"
   ]
  },
  {
   "cell_type": "code",
   "execution_count": 23,
   "metadata": {},
   "outputs": [
    {
     "name": "stdout",
     "output_type": "stream",
     "text": [
      "*\n",
      "**\n",
      "***\n"
     ]
    }
   ],
   "source": [
    "print_triangle(3)"
   ]
  },
  {
   "cell_type": "code",
   "execution_count": 17,
   "metadata": {},
   "outputs": [],
   "source": [
    "def get_subtotal(price, qty):\n",
    "    subtotal = price * qty\n",
    "    return subtotal"
   ]
  },
  {
   "cell_type": "code",
   "execution_count": 19,
   "metadata": {},
   "outputs": [
    {
     "name": "stdout",
     "output_type": "stream",
     "text": [
      "Enter Price: 15\n",
      "Enter Quantity: 1\n",
      "15\n"
     ]
    }
   ],
   "source": [
    "price = int(input(\"Enter Price: \"))\n",
    "qty = int(input(\"Enter Quantity: \"))\n",
    "\n",
    "total = get_subtotal(price,qty)\n",
    "print(total)"
   ]
  },
  {
   "cell_type": "code",
   "execution_count": 27,
   "metadata": {},
   "outputs": [
    {
     "name": "stdout",
     "output_type": "stream",
     "text": [
      "this\n",
      "is\n",
      "a\n",
      "test\n",
      "string\n"
     ]
    }
   ],
   "source": [
    "print(\"this\\nis\\na\\ntest\\nstring\")"
   ]
  },
  {
   "cell_type": "markdown",
   "metadata": {},
   "source": [
    "### Intermediate Strings"
   ]
  },
  {
   "cell_type": "markdown",
   "metadata": {},
   "source": [
    "**Review**\n",
    "* A string is a sequence of characters\n",
    "* Can be enclosed in single quotes or double quotes\n",
    "* The backslash can be used to escape quotes and special characters\n",
    "* Force a line break with \\n"
   ]
  },
  {
   "cell_type": "markdown",
   "metadata": {},
   "source": [
    "H|y|d|r|o| |F|l|a|s|k\n",
    "-|-|-|-|-|-|-|-|-|-|-\n",
    "0|1|2|3|4|5|6|7|8|9|10"
   ]
  },
  {
   "cell_type": "code",
   "execution_count": 28,
   "metadata": {},
   "outputs": [
    {
     "data": {
      "text/plain": [
       "11"
      ]
     },
     "execution_count": 28,
     "metadata": {},
     "output_type": "execute_result"
    }
   ],
   "source": [
    "# Get the length of the string\n",
    "product = \"Hydro Flask\"\n",
    "len(product)"
   ]
  },
  {
   "cell_type": "code",
   "execution_count": 30,
   "metadata": {},
   "outputs": [
    {
     "data": {
      "text/plain": [
       "4"
      ]
     },
     "execution_count": 30,
     "metadata": {},
     "output_type": "execute_result"
    }
   ],
   "source": [
    "len(\"Them\")"
   ]
  },
  {
   "cell_type": "code",
   "execution_count": 31,
   "metadata": {},
   "outputs": [
    {
     "name": "stdout",
     "output_type": "stream",
     "text": [
      "H\n",
      "o\n"
     ]
    }
   ],
   "source": [
    "# Indexing\n",
    "# each character can be accessed using square brackets\n",
    "product = \"Hydro Flask\"\n",
    "print(product[0])\n",
    "print(product[4])"
   ]
  },
  {
   "cell_type": "code",
   "execution_count": 14,
   "metadata": {},
   "outputs": [
    {
     "name": "stdout",
     "output_type": "stream",
     "text": [
      "k\n",
      "s\n"
     ]
    }
   ],
   "source": [
    "# Negative indices\n",
    "# Starts at -1 (last character)\n",
    "print(product[-1])\n",
    "print(product[-2])"
   ]
  },
  {
   "cell_type": "code",
   "execution_count": 15,
   "metadata": {},
   "outputs": [
    {
     "data": {
      "text/plain": [
       "'sksksksksk'"
      ]
     },
     "execution_count": 15,
     "metadata": {},
     "output_type": "execute_result"
    }
   ],
   "source": [
    "# Repeat:\n",
    "(product[-2]+product[-1])*5"
   ]
  },
  {
   "cell_type": "code",
   "execution_count": 35,
   "metadata": {},
   "outputs": [
    {
     "name": "stdout",
     "output_type": "stream",
     "text": [
      "H|y|d|r|o| |F|l|a|s|k|"
     ]
    }
   ],
   "source": [
    "## String indices and loops: while\n",
    "product = \"Hydro Flask\"\n",
    "index = 0\n",
    "while index < len(product):\n",
    "    letter = product[index]\n",
    "    print(letter,end=\"|\")\n",
    "    index = index + 1"
   ]
  },
  {
   "cell_type": "code",
   "execution_count": 37,
   "metadata": {},
   "outputs": [
    {
     "name": "stdout",
     "output_type": "stream",
     "text": [
      "H|y|d|r|o| |F|l|a|s|k|"
     ]
    }
   ],
   "source": [
    "## String indices and loops: while\n",
    "product = \"Hydro Flask\"\n",
    "index = 0\n",
    "for index in range(0, len(product)):\n",
    "    letter = product[index]\n",
    "    print(letter,end=\"|\")\n"
   ]
  },
  {
   "cell_type": "code",
   "execution_count": 18,
   "metadata": {},
   "outputs": [
    {
     "name": "stdout",
     "output_type": "stream",
     "text": [
      "H\n",
      "y\n",
      "d\n",
      "r\n",
      "o\n",
      " \n",
      "F\n",
      "l\n",
      "a\n",
      "s\n",
      "k\n"
     ]
    }
   ],
   "source": [
    "product = \"Hydro Flask\"\n",
    "index = 0\n",
    "while index < len(product):\n",
    "    letter = product[index]\n",
    "    print(letter)\n",
    "    index += 1"
   ]
  },
  {
   "cell_type": "code",
   "execution_count": 39,
   "metadata": {},
   "outputs": [
    {
     "name": "stdout",
     "output_type": "stream",
     "text": [
      "2\n"
     ]
    }
   ],
   "source": [
    "# count specific letters\n",
    "\n",
    "letter = \"b\"\n",
    "\n",
    "product = \"abracadabra\"\n",
    "count = 0\n",
    "for char in product:\n",
    "    if(char==letter):\n",
    "        count += 1\n",
    "print(count)\n"
   ]
  },
  {
   "cell_type": "code",
   "execution_count": 51,
   "metadata": {},
   "outputs": [
    {
     "name": "stdout",
     "output_type": "stream",
     "text": [
      "Hydro Flask\n"
     ]
    }
   ],
   "source": [
    "product = \"Hydro Flask\"\n",
    "print(product)"
   ]
  },
  {
   "cell_type": "code",
   "execution_count": 52,
   "metadata": {},
   "outputs": [
    {
     "data": {
      "text/plain": [
       "True"
      ]
     },
     "execution_count": 52,
     "metadata": {},
     "output_type": "execute_result"
    }
   ],
   "source": [
    "# substrings\n",
    "'ask' in product"
   ]
  },
  {
   "cell_type": "code",
   "execution_count": 54,
   "metadata": {},
   "outputs": [
    {
     "name": "stdout",
     "output_type": "stream",
     "text": [
      "Hydro\n",
      "Kanteen\n",
      "Hydro Kanteen\n"
     ]
    }
   ],
   "source": [
    "# slicing\n",
    "# includes the start (\"inclusive\"), excludes the end (\"exclusive\")\n",
    "product1 = \"Hydro_Flask\"\n",
    "product2 = \"Kleen_Kanteen\"\n",
    "print(product1[0:5])\n",
    "print(product2[6:len(product2)])\n",
    "print(product1[0:5]+\" \"+product2[6:])"
   ]
  },
  {
   "cell_type": "code",
   "execution_count": 22,
   "metadata": {},
   "outputs": [
    {
     "name": "stdout",
     "output_type": "stream",
     "text": [
      "Hydro\n",
      "Kanteen\n",
      "Hydro Kanteen\n"
     ]
    }
   ],
   "source": [
    "# slicing\n",
    "# includes the start (\"inclusive\"), excludes the end (\"exclusive\")\n",
    "product1 = \"Hydro Flask\"\n",
    "product2 = \"Kleen Kanteen\"\n",
    "print(product1[0:5])\n",
    "print(product2[6:])\n",
    "print(product1[0:5]+\" \"+product2[6:])"
   ]
  },
  {
   "cell_type": "markdown",
   "metadata": {},
   "source": [
    "### Advanced Data Types\n",
    "\n",
    "* lists\n",
    "* dictionaries\n",
    "\n",
    "#### Lists\n",
    "- A list, just like a string, is a sequence of values\n",
    "- Instead of just characters, a list can contain different types of values\n",
    "- The values in the list are called **elements** or **items**"
   ]
  },
  {
   "cell_type": "code",
   "execution_count": 55,
   "metadata": {},
   "outputs": [
    {
     "name": "stdout",
     "output_type": "stream",
     "text": [
      "[10, 20, 30, 40]\n",
      "['ten', 'twenty', 'thirty', 'forty']\n"
     ]
    }
   ],
   "source": [
    "lista = [10,20,30,40]\n",
    "listb = [\"ten\",\"twenty\",\"thirty\",\"forty\"]\n",
    "\n",
    "print(lista)\n",
    "print(listb)"
   ]
  },
  {
   "cell_type": "code",
   "execution_count": 57,
   "metadata": {},
   "outputs": [
    {
     "name": "stdout",
     "output_type": "stream",
     "text": [
      "40\n",
      "thirty\n"
     ]
    }
   ],
   "source": [
    "# indexing lists\n",
    "print(lista[-1])\n",
    "print(listb[-2])"
   ]
  },
  {
   "cell_type": "code",
   "execution_count": 58,
   "metadata": {},
   "outputs": [
    {
     "name": "stdout",
     "output_type": "stream",
     "text": [
      "10\n",
      "20\n",
      "30\n",
      "40\n",
      "ten\n",
      "twenty\n",
      "thirty\n",
      "forty\n"
     ]
    }
   ],
   "source": [
    "# using loops for lists\n",
    "for a in lista:\n",
    "    print(a)\n",
    "    \n",
    "for b in listb:\n",
    "    print(b)"
   ]
  },
  {
   "cell_type": "code",
   "execution_count": 60,
   "metadata": {},
   "outputs": [
    {
     "data": {
      "text/plain": [
       "4"
      ]
     },
     "execution_count": 60,
     "metadata": {},
     "output_type": "execute_result"
    }
   ],
   "source": [
    "len(listb)"
   ]
  },
  {
   "cell_type": "code",
   "execution_count": 61,
   "metadata": {},
   "outputs": [
    {
     "data": {
      "text/plain": [
       "['the', 'quick', 'brown', 'fox', 'jumps', 'over', 'the', 'lazy', 'dogs']"
      ]
     },
     "execution_count": 61,
     "metadata": {},
     "output_type": "execute_result"
    }
   ],
   "source": [
    "bigstring = \"the quick brown fox jumps over the lazy dogs\"\n",
    "bigstring.split()"
   ]
  },
  {
   "cell_type": "code",
   "execution_count": 62,
   "metadata": {},
   "outputs": [
    {
     "data": {
      "text/plain": [
       "list"
      ]
     },
     "execution_count": 62,
     "metadata": {},
     "output_type": "execute_result"
    }
   ],
   "source": [
    "type(bigstring.split())"
   ]
  },
  {
   "cell_type": "code",
   "execution_count": 63,
   "metadata": {},
   "outputs": [
    {
     "data": {
      "text/plain": [
       "str"
      ]
     },
     "execution_count": 63,
     "metadata": {},
     "output_type": "execute_result"
    }
   ],
   "source": [
    "type(bigstring)"
   ]
  },
  {
   "cell_type": "code",
   "execution_count": 26,
   "metadata": {},
   "outputs": [
    {
     "name": "stdout",
     "output_type": "stream",
     "text": [
      "['one', 'big', 'fight']\n"
     ]
    }
   ],
   "source": [
    "# list functions\n",
    "\n",
    "# split(): breaks a string into a list\n",
    "s = \"one big fight\"\n",
    "print(s.split())"
   ]
  },
  {
   "cell_type": "code",
   "execution_count": 27,
   "metadata": {},
   "outputs": [
    {
     "name": "stdout",
     "output_type": "stream",
     "text": [
      "['one', 'big', 'fight']\n"
     ]
    }
   ],
   "source": [
    "# with delimiter\n",
    "# split(): breaks a string into a list\n",
    "delimiter = \"-\"\n",
    "s = \"one-big-fight\"\n",
    "print(s.split(delimiter))"
   ]
  },
  {
   "cell_type": "markdown",
   "metadata": {},
   "source": [
    "## Dictionaries\n",
    "- name or keys and values"
   ]
  },
  {
   "cell_type": "code",
   "execution_count": 28,
   "metadata": {},
   "outputs": [
    {
     "name": "stdout",
     "output_type": "stream",
     "text": [
      "{'code': 100, 'name': 'Americano', 'price': 110}\n"
     ]
    }
   ],
   "source": [
    "product1 = {\"code\":100, \"name\":\"Americano\", \"price\": 110}\n",
    "print(product1)"
   ]
  },
  {
   "cell_type": "code",
   "execution_count": 29,
   "metadata": {},
   "outputs": [
    {
     "name": "stdout",
     "output_type": "stream",
     "text": [
      "100\n",
      "Americano\n",
      "110\n"
     ]
    }
   ],
   "source": [
    "# retrieve value\n",
    "print(product1[\"code\"])\n",
    "print(product1[\"name\"])\n",
    "print(product1[\"price\"])"
   ]
  },
  {
   "cell_type": "code",
   "execution_count": 30,
   "metadata": {},
   "outputs": [
    {
     "name": "stdout",
     "output_type": "stream",
     "text": [
      "Americano\n",
      "Espresso\n",
      "Cappuccino\n",
      "Latte\n"
     ]
    }
   ],
   "source": [
    "# list of dictionaries\n",
    "products = [\n",
    "    {'code': 100,\"name\":\"Americano\", \"price\": 110},\n",
    "    {'code': 200,\"name\":\"Espresso\", \"price\": 105},\n",
    "    {'code': 300,\"name\":\"Cappuccino\", \"price\": 120},\n",
    "    {'code': 400,\"name\":\"Latte\", \"price\": 125},\n",
    "]\n",
    "\n",
    "# print a list product names\n",
    "\n",
    "for p in products:\n",
    "    print(p[\"name\"])"
   ]
  },
  {
   "cell_type": "code",
   "execution_count": 31,
   "metadata": {},
   "outputs": [
    {
     "ename": "TypeError",
     "evalue": "can only concatenate str (not \"int\") to str",
     "output_type": "error",
     "traceback": [
      "\u001b[0;31m---------------------------------------------------------------------------\u001b[0m",
      "\u001b[0;31mTypeError\u001b[0m                                 Traceback (most recent call last)",
      "\u001b[0;32m<ipython-input-31-9e7dada3dce9>\u001b[0m in \u001b[0;36m<module>\u001b[0;34m\u001b[0m\n\u001b[1;32m      2\u001b[0m \u001b[0;34m\u001b[0m\u001b[0m\n\u001b[1;32m      3\u001b[0m \u001b[0;32mfor\u001b[0m \u001b[0mp\u001b[0m \u001b[0;32min\u001b[0m \u001b[0mproducts\u001b[0m\u001b[0;34m:\u001b[0m\u001b[0;34m\u001b[0m\u001b[0;34m\u001b[0m\u001b[0m\n\u001b[0;32m----> 4\u001b[0;31m     \u001b[0mprint\u001b[0m\u001b[0;34m(\u001b[0m\u001b[0mp\u001b[0m\u001b[0;34m[\u001b[0m\u001b[0;34m\"name\"\u001b[0m\u001b[0;34m]\u001b[0m \u001b[0;34m+\u001b[0m \u001b[0;34m\":\"\u001b[0m \u001b[0;34m+\u001b[0m \u001b[0mp\u001b[0m\u001b[0;34m[\u001b[0m\u001b[0;34m\"price\"\u001b[0m\u001b[0;34m]\u001b[0m\u001b[0;34m)\u001b[0m \u001b[0;31m# will yield an error. why?\u001b[0m\u001b[0;34m\u001b[0m\u001b[0;34m\u001b[0m\u001b[0m\n\u001b[0m",
      "\u001b[0;31mTypeError\u001b[0m: can only concatenate str (not \"int\") to str"
     ]
    }
   ],
   "source": [
    "# print a menu\n",
    "\n",
    "for p in products:\n",
    "    print(p[\"name\"] + \":\" + p[\"price\"]) # will yield an error. why?"
   ]
  },
  {
   "cell_type": "code",
   "execution_count": 32,
   "metadata": {},
   "outputs": [
    {
     "name": "stdout",
     "output_type": "stream",
     "text": [
      "Americano:110\n",
      "Espresso:105\n",
      "Cappuccino:120\n",
      "Latte:125\n"
     ]
    }
   ],
   "source": [
    "# print a menu\n",
    "\n",
    "for p in products:\n",
    "    print(p[\"name\"] + \":\" + str(p[\"price\"]))"
   ]
  },
  {
   "cell_type": "code",
   "execution_count": 33,
   "metadata": {},
   "outputs": [
    {
     "name": "stdout",
     "output_type": "stream",
     "text": [
      "Enter product code: 100\n",
      "Enter qty: 1\n",
      "Price is 110\n",
      "Order subtotal: 110\n"
     ]
    }
   ],
   "source": [
    "# take orders\n",
    "\n",
    "code = int(input(\"Enter product code: \"))\n",
    "qty = int(input(\"Enter qty: \"))\n",
    "\n",
    "# get price of ordered product\n",
    "\n",
    "price = 0\n",
    "\n",
    "for p in products:\n",
    "    if(p[\"code\"]==code):\n",
    "        price = p[\"price\"]\n",
    "        break\n",
    "\n",
    "print(\"Price is \"+str(price))\n",
    "        \n",
    "print(\"Order subtotal: \"+str(price*qty))"
   ]
  },
  {
   "cell_type": "code",
   "execution_count": 34,
   "metadata": {},
   "outputs": [
    {
     "name": "stdout",
     "output_type": "stream",
     "text": [
      "{'name': 'Americano', 'price': 110}\n"
     ]
    }
   ],
   "source": [
    "# what if there are many products? One big loop will make this very slow.\n",
    "# there is a better way to design the dictionary\n",
    "\n",
    "products = {\n",
    "    100:{\"name\":\"Americano\", \"price\": 110},\n",
    "    200:{\"name\":\"Espresso\", \"price\": 105},\n",
    "    300:{\"name\":\"Cappuccino\", \"price\": 120},\n",
    "    400:{\"name\":\"Latte\", \"price\": 125},\n",
    "}\n",
    "\n",
    "# No need for loop\n",
    "\n",
    "print(products[code])"
   ]
  },
  {
   "cell_type": "code",
   "execution_count": 35,
   "metadata": {},
   "outputs": [
    {
     "data": {
      "text/plain": [
       "110"
      ]
     },
     "execution_count": 35,
     "metadata": {},
     "output_type": "execute_result"
    }
   ],
   "source": [
    "# Get price\n",
    "products[code][\"price\"]"
   ]
  },
  {
   "cell_type": "code",
   "execution_count": 36,
   "metadata": {},
   "outputs": [
    {
     "name": "stdout",
     "output_type": "stream",
     "text": [
      "Price is 110\n",
      "Order subtotal: 110\n"
     ]
    }
   ],
   "source": [
    "price = products[code][\"price\"]\n",
    "\n",
    "print(\"Price is \"+str(price))\n",
    "        \n",
    "print(\"Order subtotal: \"+str(price*qty))"
   ]
  },
  {
   "cell_type": "markdown",
   "metadata": {},
   "source": [
    "### Synthesis: Use a function to get a subtotal"
   ]
  },
  {
   "cell_type": "code",
   "execution_count": 37,
   "metadata": {},
   "outputs": [
    {
     "name": "stdout",
     "output_type": "stream",
     "text": [
      "Enter product code: 100\n",
      "Enter qty: 1\n",
      "Price is 110\n",
      "Order subtotal: 110\n"
     ]
    }
   ],
   "source": [
    "def subtotal(p,q):\n",
    "    return p*q\n",
    "\n",
    "products = {\n",
    "    100:{\"name\":\"Americano\", \"price\": 110},\n",
    "    200:{\"name\":\"Espresso\", \"price\": 105},\n",
    "    300:{\"name\":\"Cappuccino\", \"price\": 120},\n",
    "    400:{\"name\":\"Latte\", \"price\": 125},\n",
    "}\n",
    "\n",
    "code = int(input(\"Enter product code: \"))\n",
    "qty = int(input(\"Enter qty: \"))\n",
    "\n",
    "# get price of ordered product\n",
    "\n",
    "price = products[code][\"price\"]\n",
    "\n",
    "print(\"Price is \"+str(price))\n",
    "        \n",
    "print(\"Order subtotal: \"+str(subtotal(price,qty)))\n"
   ]
  },
  {
   "cell_type": "markdown",
   "metadata": {},
   "source": [
    "## File I/O"
   ]
  },
  {
   "cell_type": "markdown",
   "metadata": {},
   "source": [
    "Note: Today, we shall only cover text files. Binary files will be covered at a later date (if time permits)."
   ]
  },
  {
   "cell_type": "code",
   "execution_count": 1,
   "metadata": {},
   "outputs": [],
   "source": [
    "string = \"Hello world!\""
   ]
  },
  {
   "cell_type": "markdown",
   "metadata": {},
   "source": [
    "The argument mode points to a string beginning with one of the following sequences (Additional characters may follow these sequences.):\n",
    "\n",
    "\"r\" Open text file for reading. The stream is positioned at the beginning of the file.\n",
    "\n",
    "\"r+\" Open for reading and writing. The stream is positioned at the beginning of the file.\n",
    "\n",
    "\"w\" Truncate file to zero length or create text file for writing. The stream is positioned at the beginning of the file.\n",
    "\n",
    "\"w+\" Open for reading and writing. The file is created if it does not exist, otherwise it is truncated. The stream is positioned at the beginning of the file.\n",
    "\n",
    "\"a\" Open for writing. The file is created if it does not exist. The stream is positioned at the end of the file. Subsequent writes to the file will always end up at the then current end of file, irrespective of any intervening fseek(3) or similar.\n",
    "\n",
    "\"a+\" Open for reading and writing. The file is created if it does not exist. The stream is positioned at the end of the file. Subse- quent writes to the file will always end up at the then current end of file, irrespective of any intervening fseek(3) or similar."
   ]
  },
  {
   "cell_type": "markdown",
   "metadata": {},
   "source": [
    "### ```with``` clause"
   ]
  },
  {
   "cell_type": "markdown",
   "metadata": {},
   "source": [
    "Writing to text files"
   ]
  },
  {
   "cell_type": "code",
   "execution_count": 2,
   "metadata": {},
   "outputs": [],
   "source": [
    "# with is syntactic sugar for try ... except with file close\n",
    "\n",
    "with open('hello.txt',\"w+\") as file:\n",
    "    file.write(string)"
   ]
  },
  {
   "cell_type": "code",
   "execution_count": 3,
   "metadata": {},
   "outputs": [],
   "source": [
    "with open('hello.txt',\"a+\") as file:\n",
    "    file.write(\"Yet Another line\\n\")"
   ]
  },
  {
   "cell_type": "markdown",
   "metadata": {},
   "source": [
    "### Multiple Lines"
   ]
  },
  {
   "cell_type": "code",
   "execution_count": 4,
   "metadata": {},
   "outputs": [],
   "source": [
    "strings = [\"This\",\"is\",\"a\",\"multi-line\",\"document\"]"
   ]
  },
  {
   "cell_type": "code",
   "execution_count": 5,
   "metadata": {},
   "outputs": [
    {
     "data": {
      "text/plain": [
       "['This', 'is', 'a', 'multi-line', 'document']"
      ]
     },
     "execution_count": 5,
     "metadata": {},
     "output_type": "execute_result"
    }
   ],
   "source": [
    "strings"
   ]
  },
  {
   "cell_type": "code",
   "execution_count": 6,
   "metadata": {},
   "outputs": [],
   "source": [
    "with open(\"multiline.txt\",\"w+\") as multiline_file:\n",
    "    for item in strings:\n",
    "        multiline_file.write(item+'\\n') #unlike print(), write does not append a newline character by default"
   ]
  },
  {
   "cell_type": "markdown",
   "metadata": {},
   "source": [
    "### Reading from Text Files"
   ]
  },
  {
   "cell_type": "code",
   "execution_count": 7,
   "metadata": {},
   "outputs": [
    {
     "name": "stdout",
     "output_type": "stream",
     "text": [
      "This\n",
      "is\n",
      "a\n",
      "multi-line\n",
      "document\n"
     ]
    }
   ],
   "source": [
    "with open(\"multiline.txt\",\"r\") as multiline_file:\n",
    "    lines = multiline_file.readlines()\n",
    "    for line in lines:\n",
    "        print(line,end=\"\")"
   ]
  },
  {
   "cell_type": "markdown",
   "metadata": {},
   "source": [
    "### Processing Comma Separated Value (CSV) files"
   ]
  },
  {
   "cell_type": "markdown",
   "metadata": {},
   "source": [
    "#### From Wikipedia:\n",
    "\n",
    "In computing, a comma-separated values (CSV) file is a delimited text file that uses a comma to separate values. A CSV file stores tabular data (numbers and text) in plain text. Each line of the file is a data record. Each record consists of one or more fields, separated by commas. The use of the comma as a field separator is the source of the name for this file format.\n",
    "\n",
    "The CSV file format is not fully standardized. The basic idea of separating fields with a comma is clear, but that idea gets complicated when the field data may also contain commas or even embedded line-breaks. CSV implementations may not handle such field data, or they may use quotation marks to surround the field. Quotation does not solve everything: some fields may need embedded quotation marks, so a CSV implementation may include escape characters or escape sequences.\n",
    "\n",
    "In addition, the term \"CSV\" also denotes some closely related delimiter-separated formats that use different field delimiters, for example, semicolons. These include tab-separated values and space-separated values. A delimiter that is not present in the field data (such as tab) keeps the format parsing simple. These alternate delimiter-separated files are often even given a .csv extension despite the use of a non-comma field separator. This loose terminology can cause problems in data exchange. Many applications that accept CSV files have options to select the delimiter character and the quotation character. Semicolons are often used in some European countries, such as Italy, instead "
   ]
  },
  {
   "cell_type": "markdown",
   "metadata": {},
   "source": [
    "#### Example CSV\n",
    "```\n",
    "code,name,price\n",
    "\"brewedcoffee\",\"Brewed Coffee\",120.0\n",
    "\"espresso\",\"Espresso\",140.00\n",
    "\"americano\",\"Americano\",150.00\n",
    "\"cappuccino\",\"Cappuccino\",170.00\n",
    "```"
   ]
  },
  {
   "cell_type": "markdown",
   "metadata": {},
   "source": [
    "Create a text file named **products.csv** with contents from the previous cell. Make sure that this line is in the beginning of the file:\n",
    "\n",
    "code,name,price\n",
    "\n",
    "Save the file in the same directory as this notebook."
   ]
  },
  {
   "cell_type": "code",
   "execution_count": 13,
   "metadata": {},
   "outputs": [],
   "source": [
    "import csv"
   ]
  },
  {
   "cell_type": "code",
   "execution_count": null,
   "metadata": {},
   "outputs": [],
   "source": [
    "with open('products.csv') as csv_file:\n",
    "    csv_reader = csv.reader(csv_file, delimiter=',')\n",
    "    line_count = 0\n",
    "    for row in csv_reader:\n",
    "        if line_count == 0:\n",
    "            print(f'Column names are {\", \".join(row)}')\n",
    "        else:\n",
    "            print(f'\\t{row[0]}  {row[1]}  {row[2]}')\n",
    "        line_count += 1"
   ]
  },
  {
   "cell_type": "markdown",
   "metadata": {},
   "source": [
    "#### Alternative using ```enumerate```"
   ]
  },
  {
   "cell_type": "code",
   "execution_count": null,
   "metadata": {},
   "outputs": [],
   "source": [
    "with open('products.csv') as csv_file:\n",
    "    csv_reader = csv.reader(csv_file, delimiter=',')\n",
    "    for line_count, row in enumerate(csv_reader):\n",
    "        if line_count == 0:\n",
    "            print(f'Column names are {\", \".join(row)}')\n",
    "        else:\n",
    "            print(f'\\t{row[0]}  {row[1]}  {row[2]}')"
   ]
  },
  {
   "cell_type": "markdown",
   "metadata": {},
   "source": [
    "### Data Transformation: Constructing the dictionary"
   ]
  },
  {
   "cell_type": "code",
   "execution_count": null,
   "metadata": {},
   "outputs": [],
   "source": [
    "products = dict()\n",
    "\n",
    "with open('products.csv') as csv_file:\n",
    "    csv_reader = csv.reader(csv_file, delimiter=',')\n",
    "    line_count = 0\n",
    "    for row in csv_reader:\n",
    "        if line_count == 0:\n",
    "            pass\n",
    "        else:\n",
    "            products[row[0]]={\"name\":row[1], \"price\":float(row[2])}\n",
    "        line_count += 1\n",
    "        \n",
    "products"
   ]
  },
  {
   "cell_type": "code",
   "execution_count": null,
   "metadata": {},
   "outputs": [],
   "source": [
    "products_new = dict()\n",
    "\n",
    "with open('products_new.csv') as csv_file:\n",
    "    csv_reader = csv.reader(csv_file, delimiter=',')\n",
    "    line_count = 0\n",
    "    for row in csv_reader:\n",
    "        if line_count == 0:\n",
    "            pass\n",
    "        else:\n",
    "            products_new[row[0]]={\"name\":row[1], \"price\":float(row[2])}\n",
    "        line_count += 1\n",
    "        \n",
    "products_new"
   ]
  },
  {
   "cell_type": "code",
   "execution_count": null,
   "metadata": {},
   "outputs": [],
   "source": []
  }
 ],
 "metadata": {
  "kernelspec": {
   "display_name": "Python 3",
   "language": "python",
   "name": "python3"
  },
  "language_info": {
   "codemirror_mode": {
    "name": "ipython",
    "version": 3
   },
   "file_extension": ".py",
   "mimetype": "text/x-python",
   "name": "python",
   "nbconvert_exporter": "python",
   "pygments_lexer": "ipython3",
   "version": "3.7.4"
  }
 },
 "nbformat": 4,
 "nbformat_minor": 2
}
