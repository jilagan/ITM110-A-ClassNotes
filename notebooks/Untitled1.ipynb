{
 "cells": [
  {
   "cell_type": "code",
   "execution_count": 4,
   "metadata": {},
   "outputs": [
    {
     "name": "stdout",
     "output_type": "stream",
     "text": [
      "Americano\n",
      "Espresso\n",
      "Cappuccino\n",
      "Latte\n"
     ]
    }
   ],
   "source": [
    "products = {\n",
    "    100:{\"name\":\"Americano\", \"price\": 110},\n",
    "    200:{\"name\":\"Espresso\", \"price\": 105},\n",
    "    300:{\"name\":\"Cappuccino\", \"price\": 120},\n",
    "    400:{\"name\":\"Latte\", \"price\": 125},\n",
    "}\n",
    "\n",
    "# the old loop won't work anymore because we converted products from a list to a dictionary\n",
    "print(products[100][\"name\"])\n",
    "print(products[200][\"name\"])\n",
    "print(products[300][\"name\"])\n",
    "print(products[400][\"name\"])\n"
   ]
  },
  {
   "cell_type": "code",
   "execution_count": 5,
   "metadata": {},
   "outputs": [
    {
     "name": "stdout",
     "output_type": "stream",
     "text": [
      "Americano:110\n",
      "Espresso:105\n",
      "Cappuccino:120\n",
      "Latte:125\n"
     ]
    }
   ],
   "source": [
    "# if you want to go through all the products in the dictionary (and sorry, I didn't teach this earlier),\n",
    "# you may do something like this:\n",
    "\n",
    "for p in products.values():\n",
    "    print(p[\"name\"] + \":\" + str(p[\"price\"]))"
   ]
  },
  {
   "cell_type": "code",
   "execution_count": null,
   "metadata": {},
   "outputs": [],
   "source": []
  }
 ],
 "metadata": {
  "kernelspec": {
   "display_name": "Python 3",
   "language": "python",
   "name": "python3"
  },
  "language_info": {
   "codemirror_mode": {
    "name": "ipython",
    "version": 3
   },
   "file_extension": ".py",
   "mimetype": "text/x-python",
   "name": "python",
   "nbconvert_exporter": "python",
   "pygments_lexer": "ipython3",
   "version": "3.7.4"
  }
 },
 "nbformat": 4,
 "nbformat_minor": 2
}
